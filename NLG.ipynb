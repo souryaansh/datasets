{
 "cells": [
  {
   "cell_type": "code",
   "execution_count": 1,
   "metadata": {},
   "outputs": [
    {
     "name": "stderr",
     "output_type": "stream",
     "text": [
      "Using TensorFlow backend.\n"
     ]
    }
   ],
   "source": [
    "from keras.preprocessing.sequence import pad_sequences\n",
    "from keras.layers import Embedding, LSTM, Dense, Dropout\n",
    "from keras.preprocessing.text import Tokenizer\n",
    "from keras.callbacks import EarlyStopping\n",
    "from keras.models import Sequential\n",
    "import keras.utils as ku \n",
    "\n",
    "# set seeds for reproducability\n",
    "from tensorflow import set_random_seed\n",
    "from numpy.random import seed\n",
    "set_random_seed(2)\n",
    "seed(1)\n",
    "\n",
    "import pandas as pd\n",
    "import numpy as np\n",
    "import string, os \n",
    "\n",
    "import warnings\n",
    "warnings.filterwarnings(\"ignore\")\n",
    "warnings.simplefilter(action='ignore', category=FutureWarning)"
   ]
  },
  {
   "cell_type": "code",
   "execution_count": 2,
   "metadata": {},
   "outputs": [],
   "source": [
    "import string\n",
    "from sklearn.feature_extraction.text import TfidfVectorizer \n",
    "from nltk.stem import SnowballStemmer\n",
    "from nltk.stem.wordnet import WordNetLemmatizer \n",
    "from nltk.corpus import stopwords\n",
    "from subprocess import check_output\n",
    "from sklearn.feature_extraction.text import CountVectorizer"
   ]
  },
  {
   "cell_type": "code",
   "execution_count": 83,
   "metadata": {},
   "outputs": [],
   "source": [
    "import re"
   ]
  },
  {
   "cell_type": "code",
   "execution_count": 104,
   "metadata": {},
   "outputs": [],
   "source": [
    "pd.set_option('display.max_colwidth', -1)"
   ]
  },
  {
   "cell_type": "code",
   "execution_count": 2,
   "metadata": {},
   "outputs": [
    {
     "ename": "ParserError",
     "evalue": "Error tokenizing data. C error: Expected 1 fields in line 6, saw 2\n",
     "output_type": "error",
     "traceback": [
      "\u001b[1;31m---------------------------------------------------------------------------\u001b[0m",
      "\u001b[1;31mParserError\u001b[0m                               Traceback (most recent call last)",
      "\u001b[1;32m<ipython-input-2-fc458a1fc4f5>\u001b[0m in \u001b[0;36m<module>\u001b[1;34m\u001b[0m\n\u001b[1;32m----> 1\u001b[1;33m \u001b[0mchan\u001b[0m \u001b[1;33m=\u001b[0m \u001b[0mpd\u001b[0m\u001b[1;33m.\u001b[0m\u001b[0mread_csv\u001b[0m\u001b[1;33m(\u001b[0m\u001b[1;34m\"https://drive.google.com/file/d/1VlIWC77lKy6AON_hXITdyS7N186EMjRR/view?usp=sharing\"\u001b[0m\u001b[1;33m)\u001b[0m\u001b[1;33m\u001b[0m\u001b[1;33m\u001b[0m\u001b[0m\n\u001b[0m\u001b[0;32m      2\u001b[0m \u001b[0mchan\u001b[0m \u001b[1;33m=\u001b[0m \u001b[0mchan\u001b[0m\u001b[1;33m[\u001b[0m\u001b[0mchan\u001b[0m\u001b[1;33m.\u001b[0m\u001b[0mChar\u001b[0m \u001b[1;33m==\u001b[0m \u001b[1;34m\"Chandler\"\u001b[0m\u001b[1;33m]\u001b[0m\u001b[1;33m.\u001b[0m\u001b[0mDiag\u001b[0m\u001b[1;33m[\u001b[0m\u001b[1;33m:\u001b[0m\u001b[1;33m:\u001b[0m\u001b[1;36m20\u001b[0m\u001b[1;33m]\u001b[0m\u001b[1;33m\u001b[0m\u001b[1;33m\u001b[0m\u001b[0m\n",
      "\u001b[1;32me:\\test-env\\lib\\site-packages\\pandas\\io\\parsers.py\u001b[0m in \u001b[0;36mparser_f\u001b[1;34m(filepath_or_buffer, sep, delimiter, header, names, index_col, usecols, squeeze, prefix, mangle_dupe_cols, dtype, engine, converters, true_values, false_values, skipinitialspace, skiprows, skipfooter, nrows, na_values, keep_default_na, na_filter, verbose, skip_blank_lines, parse_dates, infer_datetime_format, keep_date_col, date_parser, dayfirst, iterator, chunksize, compression, thousands, decimal, lineterminator, quotechar, quoting, doublequote, escapechar, comment, encoding, dialect, tupleize_cols, error_bad_lines, warn_bad_lines, delim_whitespace, low_memory, memory_map, float_precision)\u001b[0m\n\u001b[0;32m    700\u001b[0m                     skip_blank_lines=skip_blank_lines)\n\u001b[0;32m    701\u001b[0m \u001b[1;33m\u001b[0m\u001b[0m\n\u001b[1;32m--> 702\u001b[1;33m         \u001b[1;32mreturn\u001b[0m \u001b[0m_read\u001b[0m\u001b[1;33m(\u001b[0m\u001b[0mfilepath_or_buffer\u001b[0m\u001b[1;33m,\u001b[0m \u001b[0mkwds\u001b[0m\u001b[1;33m)\u001b[0m\u001b[1;33m\u001b[0m\u001b[1;33m\u001b[0m\u001b[0m\n\u001b[0m\u001b[0;32m    703\u001b[0m \u001b[1;33m\u001b[0m\u001b[0m\n\u001b[0;32m    704\u001b[0m     \u001b[0mparser_f\u001b[0m\u001b[1;33m.\u001b[0m\u001b[0m__name__\u001b[0m \u001b[1;33m=\u001b[0m \u001b[0mname\u001b[0m\u001b[1;33m\u001b[0m\u001b[1;33m\u001b[0m\u001b[0m\n",
      "\u001b[1;32me:\\test-env\\lib\\site-packages\\pandas\\io\\parsers.py\u001b[0m in \u001b[0;36m_read\u001b[1;34m(filepath_or_buffer, kwds)\u001b[0m\n\u001b[0;32m    433\u001b[0m \u001b[1;33m\u001b[0m\u001b[0m\n\u001b[0;32m    434\u001b[0m     \u001b[1;32mtry\u001b[0m\u001b[1;33m:\u001b[0m\u001b[1;33m\u001b[0m\u001b[1;33m\u001b[0m\u001b[0m\n\u001b[1;32m--> 435\u001b[1;33m         \u001b[0mdata\u001b[0m \u001b[1;33m=\u001b[0m \u001b[0mparser\u001b[0m\u001b[1;33m.\u001b[0m\u001b[0mread\u001b[0m\u001b[1;33m(\u001b[0m\u001b[0mnrows\u001b[0m\u001b[1;33m)\u001b[0m\u001b[1;33m\u001b[0m\u001b[1;33m\u001b[0m\u001b[0m\n\u001b[0m\u001b[0;32m    436\u001b[0m     \u001b[1;32mfinally\u001b[0m\u001b[1;33m:\u001b[0m\u001b[1;33m\u001b[0m\u001b[1;33m\u001b[0m\u001b[0m\n\u001b[0;32m    437\u001b[0m         \u001b[0mparser\u001b[0m\u001b[1;33m.\u001b[0m\u001b[0mclose\u001b[0m\u001b[1;33m(\u001b[0m\u001b[1;33m)\u001b[0m\u001b[1;33m\u001b[0m\u001b[1;33m\u001b[0m\u001b[0m\n",
      "\u001b[1;32me:\\test-env\\lib\\site-packages\\pandas\\io\\parsers.py\u001b[0m in \u001b[0;36mread\u001b[1;34m(self, nrows)\u001b[0m\n\u001b[0;32m   1137\u001b[0m     \u001b[1;32mdef\u001b[0m \u001b[0mread\u001b[0m\u001b[1;33m(\u001b[0m\u001b[0mself\u001b[0m\u001b[1;33m,\u001b[0m \u001b[0mnrows\u001b[0m\u001b[1;33m=\u001b[0m\u001b[1;32mNone\u001b[0m\u001b[1;33m)\u001b[0m\u001b[1;33m:\u001b[0m\u001b[1;33m\u001b[0m\u001b[1;33m\u001b[0m\u001b[0m\n\u001b[0;32m   1138\u001b[0m         \u001b[0mnrows\u001b[0m \u001b[1;33m=\u001b[0m \u001b[0m_validate_integer\u001b[0m\u001b[1;33m(\u001b[0m\u001b[1;34m'nrows'\u001b[0m\u001b[1;33m,\u001b[0m \u001b[0mnrows\u001b[0m\u001b[1;33m)\u001b[0m\u001b[1;33m\u001b[0m\u001b[1;33m\u001b[0m\u001b[0m\n\u001b[1;32m-> 1139\u001b[1;33m         \u001b[0mret\u001b[0m \u001b[1;33m=\u001b[0m \u001b[0mself\u001b[0m\u001b[1;33m.\u001b[0m\u001b[0m_engine\u001b[0m\u001b[1;33m.\u001b[0m\u001b[0mread\u001b[0m\u001b[1;33m(\u001b[0m\u001b[0mnrows\u001b[0m\u001b[1;33m)\u001b[0m\u001b[1;33m\u001b[0m\u001b[1;33m\u001b[0m\u001b[0m\n\u001b[0m\u001b[0;32m   1140\u001b[0m \u001b[1;33m\u001b[0m\u001b[0m\n\u001b[0;32m   1141\u001b[0m         \u001b[1;31m# May alter columns / col_dict\u001b[0m\u001b[1;33m\u001b[0m\u001b[1;33m\u001b[0m\u001b[1;33m\u001b[0m\u001b[0m\n",
      "\u001b[1;32me:\\test-env\\lib\\site-packages\\pandas\\io\\parsers.py\u001b[0m in \u001b[0;36mread\u001b[1;34m(self, nrows)\u001b[0m\n\u001b[0;32m   1993\u001b[0m     \u001b[1;32mdef\u001b[0m \u001b[0mread\u001b[0m\u001b[1;33m(\u001b[0m\u001b[0mself\u001b[0m\u001b[1;33m,\u001b[0m \u001b[0mnrows\u001b[0m\u001b[1;33m=\u001b[0m\u001b[1;32mNone\u001b[0m\u001b[1;33m)\u001b[0m\u001b[1;33m:\u001b[0m\u001b[1;33m\u001b[0m\u001b[1;33m\u001b[0m\u001b[0m\n\u001b[0;32m   1994\u001b[0m         \u001b[1;32mtry\u001b[0m\u001b[1;33m:\u001b[0m\u001b[1;33m\u001b[0m\u001b[1;33m\u001b[0m\u001b[0m\n\u001b[1;32m-> 1995\u001b[1;33m             \u001b[0mdata\u001b[0m \u001b[1;33m=\u001b[0m \u001b[0mself\u001b[0m\u001b[1;33m.\u001b[0m\u001b[0m_reader\u001b[0m\u001b[1;33m.\u001b[0m\u001b[0mread\u001b[0m\u001b[1;33m(\u001b[0m\u001b[0mnrows\u001b[0m\u001b[1;33m)\u001b[0m\u001b[1;33m\u001b[0m\u001b[1;33m\u001b[0m\u001b[0m\n\u001b[0m\u001b[0;32m   1996\u001b[0m         \u001b[1;32mexcept\u001b[0m \u001b[0mStopIteration\u001b[0m\u001b[1;33m:\u001b[0m\u001b[1;33m\u001b[0m\u001b[1;33m\u001b[0m\u001b[0m\n\u001b[0;32m   1997\u001b[0m             \u001b[1;32mif\u001b[0m \u001b[0mself\u001b[0m\u001b[1;33m.\u001b[0m\u001b[0m_first_chunk\u001b[0m\u001b[1;33m:\u001b[0m\u001b[1;33m\u001b[0m\u001b[1;33m\u001b[0m\u001b[0m\n",
      "\u001b[1;32mpandas\\_libs\\parsers.pyx\u001b[0m in \u001b[0;36mpandas._libs.parsers.TextReader.read\u001b[1;34m()\u001b[0m\n",
      "\u001b[1;32mpandas\\_libs\\parsers.pyx\u001b[0m in \u001b[0;36mpandas._libs.parsers.TextReader._read_low_memory\u001b[1;34m()\u001b[0m\n",
      "\u001b[1;32mpandas\\_libs\\parsers.pyx\u001b[0m in \u001b[0;36mpandas._libs.parsers.TextReader._read_rows\u001b[1;34m()\u001b[0m\n",
      "\u001b[1;32mpandas\\_libs\\parsers.pyx\u001b[0m in \u001b[0;36mpandas._libs.parsers.TextReader._tokenize_rows\u001b[1;34m()\u001b[0m\n",
      "\u001b[1;32mpandas\\_libs\\parsers.pyx\u001b[0m in \u001b[0;36mpandas._libs.parsers.raise_parser_error\u001b[1;34m()\u001b[0m\n",
      "\u001b[1;31mParserError\u001b[0m: Error tokenizing data. C error: Expected 1 fields in line 6, saw 2\n"
     ]
    }
   ],
   "source": [
    "chan = pd.read_csv(\"https://drive.google.com/file/d/1VlIWC77lKy6AON_hXITdyS7N186EMjRR/view?usp=sharing\")\n",
    "chan = chan[chan.Char == \"Chandler\"].Diag[::20]"
   ]
  },
  {
   "cell_type": "code",
   "execution_count": 129,
   "metadata": {},
   "outputs": [
    {
     "data": {
      "text/plain": [
       "2         \\nAll right Joey, be nice.  \\n\\nSo does he have a hump? A hump and a hairpiece?                                                                                                                                                                                                                                                                                                                                                                                                                                                                                                                                                                                                                                                                                                 \n",
       "127       Oh, uh, that would be mine. See, I wrote a note to myself, \\n\\nand then I realised I didn't need it, so I balled it up and... (sees that Monica \\n\\nis glaring at him) ...now I wish I was dead.                                                                                                                                                                                                                                                                                                                                                                                                                                                                                                                                                                                \n",
       "232       All right! I'm putting it out, I'm putting it out. (He drops \\n\\nit in Phoebe's coffee.)                                                                                                                                                                                                                                                                                                                                                                                                                                                                                                                                                                                                                                                                                        \n",
       "316       \\n\\nOr you can hold it in your mouth and smoke it like this (demonstrates).                                                                                                                                                                                                                                                                                                                                                                                                                                                                                                                                                                                                                                                                                                     \n",
       "431       It's just you and Rachel, just the two of you? This is a \\n\\ndate. You're going on a date.                                                                                                                                                                                                                                                                                                                                                                                                                                                                                                                                                                                                                                                                                      \n",
       "509       (running back) She said yes!! She said yes!! (To Joey) Awful \\n\\nplay, man. Whoah. (To All) Her name's Aurora, and she's Italian, and she \\n\\npronounces my name 'Chand-lrr'. 'Chand-lrr'. I think I like it better that way. \\n\\n(To Joey) Oh, listen, the usher gave me this to give to you. (He fishes a card \\n\\nout of his pocket.)                                                                                                                                                                                                                                                                                                                                                                                                                                        \n",
       "573       Oh, so what you're saying is you're not completely fulfilled \\n\\nby Rick, Ethan and myself?                                                                                                                                                                                                                                                                                                                                                                                                                                                                                                                                                                                                                                                                                     \n",
       "677       Huh. Did, uh... any of the rest of you guys think that when \\n\\nyou first met me?                                                                                                                                                                                                                                                                                                                                                                                                                                                                                                                                                                                                                                                                                               \n",
       "785       No, I prefer to keep a safe distance from all this \\n\\nmerriment.                                                                                                                                                                                                                                                                                                                                                                                                                                                                                                                                                                                                                                                                                                               \n",
       "896       Alright, Janice, that's it! Janice... Janice... Hey, Janice, \\n\\nwhen I invited you to this party I didn't necessarily think that it meant that \\n\\nwe-                                                                                                                                                                                                                                                                                                                                                                                                                                                                                                                                                                                                                         \n",
       "969       Because it's complicated, it's complex- Hey, you kissed my \\n\\nmom!                                                                                                                                                                                                                                                                                                                                                                                                                                                                                                                                                                                                                                                                                                             \n",
       "1100      Whoah whoah, back up there, Sparky. What'd you mean by that?                                                                                                                                                                                                                                                                                                                                                                                                                                                                                                                                                                                                                                                                                                                    \n",
       "1200      Oh, man. In my next life, I'm coming back as \\n\\na toilet brush.                                                                                                                                                                                                                                                                                                                                                                                                                                                                                                                                                                                                                                                                                                                \n",
       "1284      (on phone) Hey Mr. Kostelic! How's life on the fifteenth \\n\\nfloor? (Listens) Yeah, I miss you too. (Listens) Yeah, it's a lot less \\n\\nsatisfying to steal pens from your own home, you know? (Listens) Well, that's \\n\\nvery generous (Listens) er, but look, this isn't about the money. I need \\n\\nsomething that's more than a job. I need something I can really care about.... \\n\\n(Listens) And that's on top of the yearly bonus structure you mentioned earlier? \\n\\n(Listens) Look, Al, Al... I'm not playing hardball here, OK? This is not a \\n\\nnegotiation, this is a rejection! (Listens) No! No! No, stop saying numbers! I'm \\n\\ntelling you, you've got the wrong guy! You've got the wrong guy! (Listens) I'll \\n\\nsee you on Monday! (slams the phone down)\n",
       "1358      You know, once you’re inside, you don’t have to knock any \\n\\nmore.                                                                                                                                                                                                                                                                                                                                                                                                                                                                                                                                                                                                                                                                                                             \n",
       "1498      \\nYou know, I know they call this a Love Seat, but I'm \\n\\nnot really feeling anything special towards you.                                                                                                                                                                                                                                                                                                                                                                                                                                                                                                                                                                                                                                                                     \n",
       "1678      I can't believe you would actually say that. I would much \\n\\nrather be Mr. Peanut than Mr. Salty.                                                                                                                                                                                                                                                                                                                                                                                                                                                                                                                                                                                                                                                                              \n",
       "1770      \\n\\nYou see when I say geek, I mean….oh the hell with it. You bought a $70 mop; \\n\\nyou’re a geek.\\n\\n\\n                                                                                                                                                                                                                                                                                                                                                                                                                                                                                                                                                                                                                                                                        \n",
       "1892      And this has nothing to do with the fact that he needs a \\n\\nnote to get out of gym.                                                                                                                                                                                                                                                                                                                                                                                                                                                                                                                                                                                                                                                                                            \n",
       "2010      So what the hell happened to you in China? I mean, when last we left\\n\\nyou, you were totally in love with, you know.                                                                                                                                                                                                                                                                                                                                                                                                                                                                                                                                                                                                                                                           \n",
       "2144      All right. Now go see Miss Kitty and she'll fix you up with\\n\\na nice hooker.                                                                                                                                                                                                                                                                                                                                                                                                                                                                                                                                                                                                                                                                                                   \n",
       "2218      If I'm gonna be an old, lonely man, I'm gonna need a thing,\\n\\nyou know, a hook, like that guy on the subway who eats his own face. So I\\n\\nfigure I'll be Crazy Man with a Snake, y’know. Crazy Snake Man. And I'll get\\n\\nmore snakes, call them my babies, kids will walk past my place, they will run.\\n\\n\"Run away from Crazy Snake Man,\" they'll shout!                                                                                                                                                                                                                                                                                                                                                                                                                   \n",
       "2321      I'm hoping that when Bob doesn't show up, she will seek\\n\\ncomfort in the open arms of the wry stranger at the next table.                                                                                                                                                                                                                                                                                                                                                                                                                                                                                                                                                                                                                                                      \n",
       "2388      (to Phoebe) Why did you look at me when you said that?                                                                                                                                                                                                                                                                                                                                                                                                                                                                                                                                                                                                                                                                                                                          \n",
       "2490      Actually, uh, we're both the father. (Puts his arm around\\n\\nJoey)                                                                                                                                                                                                                                                                                                                                                                                                                                                                                                                                                                                                                                                                                                              \n",
       "2641     \\n\\nDon't you have to be Claymation to say stuff like that?                                                                                                                                                                                                                                                                                                                                                                                                                                                                                                                                                                                                                                                                                                                      \n",
       "2775      Hey, we're having some\\n\\nfun now, huh, Ross? Wanna do another one, huh Russ? OK... eleven letters,\\n\\natomic element number 101... ends in ium.                                                                                                                                                                                                                                                                                                                                                                                                                                                                                                                                                                                                                                \n",
       "2896     \\n\\n(Joey grabs a frying pan) Yes, hitting her with a frying pan's a good idea. We\\n\\nmight wanna have a backup plan, though, just in case she isn't a cartoon.                                                                                                                                                                                                                                                                                                                                                                                                                                                                                                                                                                                                                  \n",
       "2974     \\n\\nWell, ye, yes, actually, but, uh, they were my Aunt Edna's, and there were\\n\\nthree of us in there.                                                                                                                                                                                                                                                                                                                                                                                                                                                                                                                                                                                                                                                                          \n",
       "3127     \\n\\nWell, how could anyone not be in love with Yasmine Bleeth?                                                                                                                                                                                                                                                                                                                                                                                                                                                                                                                                                                                                                                                                                                                   \n",
       "                                      ...                                                                                                                                                                                                                                                                                                                                                                                                                                                                                                                                                                                                                                                                                                                                                 \n",
       "9846      Okay, when are we gonna tell Rachel what is actually gonna happen?                                                                                                                                                                                                                                                                                                                                                                                                                                                                                                                                                                                                                                                                                                              \n",
       "9974      Well, why don’t you tell her to stop being silly! (Monica mocks\\n\\nhim and he joins in.)                                                                                                                                                                                                                                                                                                                                                                                                                                                                                                                                                                                                                                                                                        \n",
       "10126     Oh good, when he comes back for his keys, I’ll be sure to give\\n\\nhim your shoe.                                                                                                                                                                                                                                                                                                                                                                                                                                                                                                                                                                                                                                                                                                \n",
       "10232     Okay uh, here’s the electric bill. (Hands it to him.)                                                                                                                                                                                                                                                                                                                                                                                                                                                                                                                                                                                                                                                                                                                           \n",
       "10309     Well you see in Cups, once you get $700, you have to double it.                                                                                                                                                                                                                                                                                                                                                                                                                                                                                                                                                                                                                                                                                                                 \n",
       "10397     She's not gonna care if I put her stuff back in the same stupid place.                                                                                                                                                                                                                                                                                                                                                                                                                                                                                                                                                                                                                                                                                                          \n",
       "10454     Oh well you're the best. You come here to me.                                                                                                                                                                                                                                                                                                                                                                                                                                                                                                                                                                                                                                                                                                                                   \n",
       "10617     So she was just pretending to have a good time last night? She was\\n\\nlying to our faces?!                                                                                                                                                                                                                                                                                                                                                                                                                                                                                                                                                                                                                                                                                      \n",
       "10751     So is your apron. You’re wearing it like a cape.                                                                                                                                                                                                                                                                                                                                                                                                                                                                                                                                                                                                                                                                                                                                \n",
       "10862     Oh Jeez honey, I thought, I thought you were asleep.                                                                                                                                                                                                                                                                                                                                                                                                                                                                                                                                                                                                                                                                                                                            \n",
       "10996     (starts crying) I-I can’t believe Jill’s gone. (They all\\n\\nlook at him.) I can’t help it, I opened a gate.                                                                                                                                                                                                                                                                                                                                                                                                                                                                                                                                                                                                                                                                     \n",
       "11066     Y’know sometimes the good ideas are just right in front of you,\\n\\naren’t they?                                                                                                                                                                                                                                                                                                                                                                                                                                                                                                                                                                                                                                                                                                 \n",
       "11172     Well, I umm, I mean this is just off the top of my head now, umm but I\\n\\nhave this friend. This actor friend and he would kill me if he thought I was doing this\\n\\numm, but umm would it be possible for him to get an audition for your movie say on\\n\\nThursday?                                                                                                                                                                                                                                                                                                                                                                                                                                                                                                            \n",
       "11342     Yeah okay, I was just talking to the guys. Just look at them I mean,\\n\\nis it okay if they come visit?                                                                                                                                                                                                                                                                                                                                                                                                                                                                                                                                                                                                                                                                          \n",
       "11402     Oh that’s right. It’s your first day! So are you psyched to\\n\\nfight fake crime with your robot sidekick?                                                                                                                                                                                                                                                                                                                                                                                                                                                                                                                                                                                                                                                                       \n",
       "11575     Yes, if it really doesn’t mean anything, because you know that\\n\\nI’m just not ready…                                                                                                                                                                                                                                                                                                                                                                                                                                                                                                                                                                                                                                                                                           \n",
       "11666     (is about to say something)...I'd love \\n\\nto know how you got from rainbow to L'Espace.                                                                                                                                                                                                                                                                                                                                                                                                                                                                                                                                                                                                                                                                                        \n",
       "11773     I don’t know, but don’t worry,\\n\\ndon’t worry, because I know how to take a picture now. (They\\n\\nget ready) Okay, see? Look down (Looks down), look down, look\\n\\ndown… (He falls asleep.)                                                                                                                                                                                                                                                                                                                                                                                                                                                                                                                                                                                     \n",
       "11884     Look I know it was a stupid reason to break\\n\\nup with somebody, but I was 15!                                                                                                                                                                                                                                                                                                                                                                                                                                                                                                                                                                                                                                                                                                  \n",
       "12040     Okay! Okay! Everybody down! Everybody down!\\n\\n(Rachel turns off the lights and everyone crouches. As everyone crouches, a ripping noise erupts from\\n\\nthe assemblage.)                                                                                                                                                                                                                                                                                                                                                                                                                                                                                                                                                                                                        \n",
       "12138     No, but Horny for Monica Minister called,\\n\\nwanting to know if we were still together.                                                                                                                                                                                                                                                                                                                                                                                                                                                                                                                                                                                                                                                                                         \n",
       "12229     Look Joe, I know you\\n\\nwanted to do the wedding…                                                                                                                                                                                                                                                                                                                                                                                                                                                                                                                                                                                                                                                                                                                               \n",
       "12297     The reason we didn't tell anyone was because we didn't want to make a\\n\\nbig deal out of it.                                                                                                                                                                                                                                                                                                                                                                                                                                                                                                                                                                                                                                                                                    \n",
       "12434     Gretzky... Agassi (struggles to think \\n\\nof a third, then to Phoebe) I'm a pretty little girl. (Monica Throws him a \\n\\ntea-towel)                                                                                                                                                                                                                                                                                                                                                                                                                                                                                                                                                                                                                                             \n",
       "12567     Y’know what? You can say goodbye to the tan ones.                                                                                                                                                                                                                                                                                                                                                                                                                                                                                                                                                                                                                                                                                                                               \n",
       "12748     Well I’ve been playing it for like eight hours, it’ll loosen\\n\\n\\nup. Come on, check out the scores. Oh, and also look at the initials, they’re dirty\\n\\n\\nwords.                                                                                                                                                                                                                                                                                                                                                                                                                                                                                                                                                                                                               \n",
       "12885     Yeah. (Checks his hair.) Oh no wait, I’m not an nine-year-old\\n\\ngirl.                                                                                                                                                                                                                                                                                                                                                                                                                                                                                                                                                                                                                                                                                                          \n",
       "13008     Sure, why don’t you set it up. I’ll just be over here,\\n\\nbrowsing through the personals.                                                                                                                                                                                                                                                                                                                                                                                                                                                                                                                                                                                                                                                                                       \n",
       "13130     Yeah, sure. What do you need? We got lace, satin, sateen, raffia,\\n\\ngingham, felt, (Pause) and I think my tentacles may be in here too.                                                                                                                                                                                                                                                                                                                                                                                                                                                                                                                                                                                                                                        \n",
       "13325     (nervous) My duties? (Trying not to crack a joke) All right.                                                                                                                                                                                                                                                                                                                                                                                                                                                                                                                                                                                                                                                                                                                    \n",
       "Name: Diag, Length: 117, dtype: object"
      ]
     },
     "execution_count": 129,
     "metadata": {},
     "output_type": "execute_result"
    }
   ],
   "source": [
    "chan"
   ]
  },
  {
   "cell_type": "code",
   "execution_count": 130,
   "metadata": {},
   "outputs": [
    {
     "data": {
      "text/plain": [
       "[' all right joey be nice so does he have a hump a hump and a hairpiece',\n",
       " ' oh uh that would be mine see i wrote a note to myself and then i realised i didnt need it so i balled it up and  now i wish i was dead ',\n",
       " ' all right im putting it out im putting it out  ',\n",
       " ' or you can hold it in your mouth and smoke it like this ',\n",
       " ' its just you and rachel just the two of you this is a date youre going on a date',\n",
       " '  she said yes she said yes  awful play man whoah  her names aurora and shes italian and she pronounces my name chandlrr chandlrr i think i like it better that way  oh listen the usher gave me this to give to you ',\n",
       " ' oh so what youre saying is youre not completely fulfilled by rick ethan and myself',\n",
       " ' huh did uh any of the rest of you guys think that when you first met me',\n",
       " ' no i prefer to keep a safe distance from all this merriment',\n",
       " ' alright janice thats it janice janice hey janice when i invited you to this party i didnt necessarily think that it meant that we',\n",
       " ' because its complicated its complex hey you kissed my mom',\n",
       " ' whoah whoah back up there sparky whatd you mean by that',\n",
       " ' oh man in my next life im coming back as a toilet brush',\n",
       " '  hey mr kostelic hows life on the fifteenth floor  yeah i miss you too  yeah its a lot less satisfying to steal pens from your own home you know  well thats very generous  er but look this isnt about the money i need something thats more than a job i need something i can really care about  and thats on top of the yearly bonus structure you mentioned earlier  look al al im not playing hardball here ok this is not a negotiation this is a rejection  no no no stop saying numbers im telling you youve got the wrong guy youve got the wrong guy  ill see you on monday ',\n",
       " ' you know once youre inside you dont have to knock any more']"
      ]
     },
     "execution_count": 130,
     "metadata": {},
     "output_type": "execute_result"
    }
   ],
   "source": [
    "def clean_text(txt):\n",
    "    txt = \"\".join(txt.split('\\n'))\n",
    "    txt = re.sub(\"\\(.*?\\)\",\"\",txt)\n",
    "    txt = re.sub(\"\\[.*?\\]\",\"\",txt)\n",
    "    txt = \"\".join(v for v in txt if v not in string.punctuation).lower()\n",
    "    txt = txt.encode(\"utf8\").decode(\"ascii\",'ignore')\n",
    "    return txt \n",
    "\n",
    "corpus = [clean_text(x) for x in chan]\n",
    "corpus[:15]"
   ]
  },
  {
   "cell_type": "code",
   "execution_count": 131,
   "metadata": {},
   "outputs": [
    {
     "data": {
      "text/plain": [
       "[[43, 46],\n",
       " [43, 46, 73],\n",
       " [43, 46, 73, 20],\n",
       " [43, 46, 73, 20, 116],\n",
       " [43, 46, 73, 20, 116, 18],\n",
       " [43, 46, 73, 20, 116, 18, 155],\n",
       " [43, 46, 73, 20, 116, 18, 155, 54],\n",
       " [43, 46, 73, 20, 116, 18, 155, 54, 21],\n",
       " [43, 46, 73, 20, 116, 18, 155, 54, 21, 5],\n",
       " [43, 46, 73, 20, 116, 18, 155, 54, 21, 5, 156]]"
      ]
     },
     "execution_count": 131,
     "metadata": {},
     "output_type": "execute_result"
    }
   ],
   "source": [
    "tokenizer = Tokenizer()\n",
    "\n",
    "def get_sequence_of_tokens(corpus):\n",
    "    ## tokenization\n",
    "    tokenizer.fit_on_texts(corpus)\n",
    "    total_words = len(tokenizer.word_index) + 1\n",
    "    \n",
    "    ## convert data to sequence of tokens \n",
    "    input_sequences = []\n",
    "    for line in corpus:\n",
    "        token_list = tokenizer.texts_to_sequences([line])[0]\n",
    "        for i in range(1, len(token_list)):\n",
    "            n_gram_sequence = token_list[:i+1]\n",
    "            input_sequences.append(n_gram_sequence)\n",
    "    return input_sequences, total_words\n",
    "\n",
    "inp_sequences, total_words = get_sequence_of_tokens(corpus)\n",
    "inp_sequences[:10]\n"
   ]
  },
  {
   "cell_type": "code",
   "execution_count": 132,
   "metadata": {},
   "outputs": [],
   "source": [
    "def generate_padded_sequences(input_sequences):\n",
    "    max_sequence_len = max([len(x) for x in input_sequences])\n",
    "    input_sequences = np.array(pad_sequences(input_sequences, maxlen=max_sequence_len, padding='pre'))\n",
    "    \n",
    "    predictors, label = input_sequences[:,:-1],input_sequences[:,-1]\n",
    "    label = ku.to_categorical(label, num_classes=total_words)\n",
    "    return predictors, label, max_sequence_len\n",
    "\n",
    "predictors, label, max_sequence_len = generate_padded_sequences(inp_sequences)"
   ]
  },
  {
   "cell_type": "code",
   "execution_count": 133,
   "metadata": {},
   "outputs": [
    {
     "name": "stdout",
     "output_type": "stream",
     "text": [
      "_________________________________________________________________\n",
      "Layer (type)                 Output Shape              Param #   \n",
      "=================================================================\n",
      "embedding_5 (Embedding)      (None, 110, 10)           7130      \n",
      "_________________________________________________________________\n",
      "lstm_5 (LSTM)                (None, 100)               44400     \n",
      "_________________________________________________________________\n",
      "dropout_5 (Dropout)          (None, 100)               0         \n",
      "_________________________________________________________________\n",
      "dense_5 (Dense)              (None, 713)               72013     \n",
      "=================================================================\n",
      "Total params: 123,543\n",
      "Trainable params: 123,543\n",
      "Non-trainable params: 0\n",
      "_________________________________________________________________\n"
     ]
    }
   ],
   "source": [
    "def create_model(max_sequence_len, total_words):\n",
    "    input_len = max_sequence_len - 1\n",
    "    model = Sequential()\n",
    "    \n",
    "    # Add Input Embedding Layer\n",
    "    model.add(Embedding(total_words, 10, input_length=input_len))\n",
    "    \n",
    "    # Add Hidden Layer 1 - LSTM Layer\n",
    "    model.add(LSTM(100))\n",
    "    model.add(Dropout(0.1))\n",
    "    \n",
    "    # Add Output Layer\n",
    "    model.add(Dense(total_words, activation='softmax'))\n",
    "\n",
    "    model.compile(loss='categorical_crossentropy', optimizer='adam')\n",
    "    \n",
    "    return model\n",
    "\n",
    "model = create_model(max_sequence_len, total_words)\n",
    "model.summary()"
   ]
  },
  {
   "cell_type": "code",
   "execution_count": 134,
   "metadata": {},
   "outputs": [
    {
     "name": "stdout",
     "output_type": "stream",
     "text": [
      "Epoch 1/100\n",
      "Epoch 2/100\n",
      "Epoch 3/100\n",
      "Epoch 4/100\n",
      "Epoch 5/100\n",
      "Epoch 6/100\n",
      "Epoch 7/100\n",
      "Epoch 8/100\n",
      "Epoch 9/100\n",
      "Epoch 10/100\n",
      "Epoch 11/100\n",
      "Epoch 12/100\n",
      "Epoch 13/100\n",
      "Epoch 14/100\n",
      "Epoch 15/100\n",
      "Epoch 16/100\n",
      "Epoch 17/100\n",
      "Epoch 18/100\n",
      "Epoch 19/100\n",
      "Epoch 20/100\n",
      "Epoch 21/100\n",
      "Epoch 22/100\n",
      "Epoch 23/100\n",
      "Epoch 24/100\n",
      "Epoch 25/100\n",
      "Epoch 26/100\n",
      "Epoch 27/100\n",
      "Epoch 28/100\n",
      "Epoch 29/100\n",
      "Epoch 30/100\n",
      "Epoch 31/100\n",
      "Epoch 32/100\n",
      "Epoch 33/100\n",
      "Epoch 34/100\n",
      "Epoch 35/100\n",
      "Epoch 36/100\n",
      "Epoch 37/100\n",
      "Epoch 38/100\n",
      "Epoch 39/100\n",
      "Epoch 40/100\n",
      "Epoch 41/100\n",
      "Epoch 42/100\n",
      "Epoch 43/100\n",
      "Epoch 44/100\n",
      "Epoch 45/100\n",
      "Epoch 46/100\n",
      "Epoch 47/100\n",
      "Epoch 48/100\n",
      "Epoch 49/100\n",
      "Epoch 50/100\n",
      "Epoch 51/100\n",
      "Epoch 52/100\n",
      "Epoch 53/100\n",
      "Epoch 54/100\n",
      "Epoch 55/100\n",
      "Epoch 56/100\n",
      "Epoch 57/100\n",
      "Epoch 58/100\n",
      "Epoch 59/100\n",
      "Epoch 60/100\n",
      "Epoch 61/100\n",
      "Epoch 62/100\n",
      "Epoch 63/100\n",
      "Epoch 64/100\n",
      "Epoch 65/100\n",
      "Epoch 66/100\n",
      "Epoch 67/100\n",
      "Epoch 68/100\n",
      "Epoch 69/100\n",
      "Epoch 70/100\n",
      "Epoch 71/100\n",
      "Epoch 72/100\n",
      "Epoch 73/100\n",
      "Epoch 74/100\n",
      "Epoch 75/100\n",
      "Epoch 76/100\n",
      "Epoch 77/100\n",
      "Epoch 78/100\n",
      "Epoch 79/100\n",
      "Epoch 80/100\n",
      "Epoch 81/100\n",
      "Epoch 82/100\n",
      "Epoch 83/100\n",
      "Epoch 84/100\n",
      "Epoch 85/100\n",
      "Epoch 86/100\n",
      "Epoch 87/100\n",
      "Epoch 88/100\n",
      "Epoch 89/100\n",
      "Epoch 90/100\n",
      "Epoch 91/100\n",
      "Epoch 92/100\n",
      "Epoch 93/100\n",
      "Epoch 94/100\n",
      "Epoch 95/100\n",
      "Epoch 96/100\n",
      "Epoch 97/100\n",
      "Epoch 98/100\n",
      "Epoch 99/100\n",
      "Epoch 100/100\n"
     ]
    },
    {
     "data": {
      "text/plain": [
       "<keras.callbacks.History at 0x208e62e8>"
      ]
     },
     "execution_count": 134,
     "metadata": {},
     "output_type": "execute_result"
    }
   ],
   "source": [
    "\n",
    "\n",
    "model.fit(predictors, label, epochs=100, verbose=5)\n",
    "\n"
   ]
  },
  {
   "cell_type": "code",
   "execution_count": 143,
   "metadata": {},
   "outputs": [],
   "source": [
    "\n",
    "def generate_text(seed_text, next_words, model, max_sequence_len):\n",
    "    for _ in range(next_words):\n",
    "        token_list = tokenizer.texts_to_sequences([seed_text])[0]\n",
    "        token_list = pad_sequences([token_list], maxlen=max_sequence_len-1, padding='pre')\n",
    "        predicted = model.predict_classes(token_list, verbose=0)        \n",
    "        output_word = \"\"\n",
    "        for word,index in tokenizer.word_index.items():\n",
    "            if index == predicted:\n",
    "                output_word = word\n",
    "                break\n",
    "        seed_text += \" \"+output_word\n",
    "#         print(output_word)\n",
    "    return seed_text.title()\n"
   ]
  },
  {
   "cell_type": "code",
   "execution_count": 150,
   "metadata": {},
   "outputs": [
    {
     "name": "stdout",
     "output_type": "stream",
     "text": [
      "President I Dont Just Talking To Have The Wedding Time Last Night She Waslying To Our Faces Of Me And And The Scores Oh About And I Think It The Dream Who Eats His Own Face You Ifigure Ill Be Crazy Man Man Ill Getmore Snakes Call Them My Babies Kids Will Walk Past My Place They Will Runrun Away From Crazy Snake Man Theyll Shout Man Theyll Shout Man My Babies Kids Will Walk Past My Place They Will Runrun Away From Crazy Snake Man Theyll Shout Man Theyll Shout Man My Babies Kids Will Walk Past My Place They\n"
     ]
    }
   ],
   "source": [
    "print(generate_text(\"president\",100,model,max_sequence_len))"
   ]
  },
  {
   "cell_type": "code",
   "execution_count": null,
   "metadata": {},
   "outputs": [],
   "source": [
    "1. Learning more advanced Machine Learning Algorithms.\n",
    "2. Implementing them to handle more complex     data-sets and improving accuracy on the current ones.\n",
    "3. Exploring a sub field of ML ,Natural Language Processing .\n",
    "4. Start working on the project."
   ]
  },
  {
   "cell_type": "code",
   "execution_count": null,
   "metadata": {},
   "outputs": [],
   "source": [
    "1. Learned advanced ML algorithms : Random-Forest, SVM, Naive-Bayes, Neural-networks.\n",
    "2. These increased the already high accuracies.\n",
    "3. Worked on data-set having, prices of houses in California and attributes of the houses such as : coordinates, age, distance from the ocean etc.\n",
    "4. Started learning Natural Language Processing.  "
   ]
  },
  {
   "cell_type": "code",
   "execution_count": null,
   "metadata": {},
   "outputs": [],
   "source": [
    "1. Learn more NLP concepts.\n",
    "2. Work on a data-set involving spam/ham prediction of text messages."
   ]
  },
  {
   "cell_type": "code",
   "execution_count": null,
   "metadata": {},
   "outputs": [],
   "source": [
    "    >>> Tokenization    \n",
    "    >>> Stemming\n",
    "    >>> Lemmatization \n",
    "    >>> False Negative\n",
    "    >>> Accuracy\n",
    "    >>> Precision\n",
    "    >>> Recall\n",
    "    >>> Classification Threshold"
   ]
  }
 ],
 "metadata": {
  "kernelspec": {
   "display_name": "Python 3",
   "language": "python",
   "name": "python3"
  },
  "language_info": {
   "codemirror_mode": {
    "name": "ipython",
    "version": 3
   },
   "file_extension": ".py",
   "mimetype": "text/x-python",
   "name": "python",
   "nbconvert_exporter": "python",
   "pygments_lexer": "ipython3",
   "version": "3.6.8"
  }
 },
 "nbformat": 4,
 "nbformat_minor": 2
}
